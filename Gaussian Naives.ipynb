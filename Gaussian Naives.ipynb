{
 "cells": [
  {
   "cell_type": "code",
   "execution_count": 138,
   "metadata": {},
   "outputs": [],
   "source": [
    "import cv2\n",
    "from matplotlib import pyplot as plt\n",
    "import numpy as np \n",
    "import random\n",
    "import math\n",
    "import numpy as np\n",
    "import statistics \n",
    "import scipy.io\n",
    "from scipy.stats import norm\n",
    "from scipy.stats import norm\n",
    "from prettytable import PrettyTable\n",
    "mat = scipy.io.loadmat('a1digits.mat')\n",
    "import warnings\n",
    "warnings.filterwarnings(\"ignore\", category=DeprecationWarning) \n",
    "\n",
    "test_data = np.array(mat['digits_test']) \n",
    "training_data = np.array(mat['digits_train'])    \n"
   ]
  },
  {
   "cell_type": "markdown",
   "metadata": {},
   "source": [
    "Examine the data and look at some of the pictures to get an idea of what the images look like."
   ]
  },
  {
   "cell_type": "code",
   "execution_count": 116,
   "metadata": {},
   "outputs": [
    {
     "data": {
      "image/png": "[encoded data removed]",
      "text/plain": [
       "<Figure size 432x288 with 10 Axes>"
      ]
     },
     "metadata": {
      "needs_background": "light"
     },
     "output_type": "display_data"
    }
   ],
   "source": [
    "imgs = []\n",
    "for i in range(0,10):\n",
    "        temp = training_data[:,0,i] \n",
    "        temp = temp.reshape(8,8)\n",
    "        imgs.append(temp)\n",
    "\n",
    "counter = 0 \n",
    "f, axarr = plt.subplots(1,10)\n",
    "for img in imgs: \n",
    "    axarr[counter].imshow(img)\n",
    "    counter +=1"
   ]
  },
  {
   "cell_type": "markdown",
   "metadata": {},
   "source": [
    "GUASSIAN TRAINING"
   ]
  },
  {
   "cell_type": "code",
   "execution_count": 117,
   "metadata": {},
   "outputs": [],
   "source": [
    "# fit a probability distribution to a univariate data sample\n",
    "def train_distribution(data):\n",
    "        mu = np.sum(data)/700\n",
    "        return mu\n",
    "        \n",
    "        \n",
    " "
   ]
  },
  {
   "cell_type": "code",
   "execution_count": 118,
   "metadata": {},
   "outputs": [],
   "source": [
    "def calc_mu_sigma(data): \n",
    "    mu = [[] for i in range(data.shape[2])]\n",
    "    sigma = 0.0\n",
    "    for Class in range(0,data.shape[2]):\n",
    "        for feature in range (data.shape[0]):\n",
    "            mu[Class].append(train_distribution(data[feature,:,Class]))\n",
    "\n",
    "    for Class in range(0,data.shape[2]):\n",
    "        for feature in range(0,data.shape[0]):\n",
    "            for column in range(0,data.shape[1]): \n",
    "               sigma += (data[feature,column,Class] - mu[Class][feature])**2\n",
    "\n",
    "    sigma = sigma/(700*10*64)\n",
    "    \n",
    "    return [mu,sigma]\n",
    "    "
   ]
  },
  {
   "cell_type": "code",
   "execution_count": 119,
   "metadata": {},
   "outputs": [],
   "source": [
    "def plot_data(data): \n",
    "    imgs = []\n",
    "    mu,sigma_sqrd = calc_mu_sigma(data)\n",
    "    for i in range(0,data.shape[2]):\n",
    "            temp = np.array(mu[:][i]).reshape(8,8)\n",
    "            imgs.append(temp)\n",
    "    counter = 0 \n",
    "    f, axarr = plt.subplots(1,10)\n",
    "    plt.title(\"Sigma = \" + str(math.sqrt(sigma_sqrd)),loc = \"center\")\n",
    "    for img in imgs: \n",
    "        axarr[counter].imshow(img,\"gray\")\n",
    "        counter +=1"
   ]
  },
  {
   "cell_type": "code",
   "execution_count": 120,
   "metadata": {},
   "outputs": [
    {
     "data": {
      "image/png": "[encoded data removed]",
      "text/plain": [
       "<Figure size 432x288 with 10 Axes>"
      ]
     },
     "metadata": {
      "needs_background": "light"
     },
     "output_type": "display_data"
    }
   ],
   "source": [
    "plot_data(training_data)"
   ]
  },
  {
   "cell_type": "markdown",
   "metadata": {},
   "source": [
    "NAIVES BAYES TRAINING"
   ]
  },
  {
   "cell_type": "code",
   "execution_count": 121,
   "metadata": {},
   "outputs": [],
   "source": [
    "def binary_thresh(data): \n",
    "    thresh_data = data.copy()\n",
    "    for i in range(data.shape[0]): \n",
    "        for j in range(data.shape[1]): \n",
    "            for k in range(data.shape[2]): \n",
    "                if data[i,j,k] < .5: \n",
    "                    thresh_data[i,j,k] = 0\n",
    "                else: \n",
    "                    thresh_data[i,j,k] = 1\n",
    "    return thresh_data"
   ]
  },
  {
   "cell_type": "code",
   "execution_count": 122,
   "metadata": {},
   "outputs": [],
   "source": [
    "def train_and_plot_naives(data): \n",
    "    binary_data = binary_thresh(data)\n",
    "    imgs = []\n",
    "    mu,_ = calc_mu_sigma(binary_data)\n",
    "    for i in range(0,data.shape[2]):\n",
    "            temp = np.array(mu[:][i]).reshape(8,8)\n",
    "            imgs.append(temp)\n",
    "    counter = 0 \n",
    "    f, axarr = plt.subplots(1,10)\n",
    "    plt.title(\"ETA per Class\",loc = \"center\")\n",
    "    for img in imgs: \n",
    "        axarr[counter].imshow(img,\"gray\")\n",
    "        counter +=1\n",
    "    "
   ]
  },
  {
   "cell_type": "code",
   "execution_count": 123,
   "metadata": {},
   "outputs": [
    {
     "data": {
      "image/png": "[encoded data removed]",
      "text/plain": [
       "<Figure size 432x288 with 10 Axes>"
      ]
     },
     "metadata": {
      "needs_background": "light"
     },
     "output_type": "display_data"
    }
   ],
   "source": [
    "train_and_plot_naives(training_data)"
   ]
  },
  {
   "cell_type": "markdown",
   "metadata": {},
   "source": [
    "TEST GUASSIAN"
   ]
  },
  {
   "cell_type": "code",
   "execution_count": 141,
   "metadata": {},
   "outputs": [],
   "source": [
    "def test_guassian(test_data, training_data):\n",
    "    mu,sigma = calc_mu_sigma(training_data)\n",
    "    accuracy_per_class = [[] for i in range(test_data.shape[2])]\n",
    "    counter = 0\n",
    "    for cl in range(10):\n",
    "        count_False = 0\n",
    "        count_True = 0 \n",
    "        while counter < 400:\n",
    "            sample_probs_guassian = []\n",
    "            for Class in range(10):\n",
    "                      sample_probs_guassian.append(((((2*math.pi*sigma)**-10)*math.exp((-1/(2*sigma))*(np.sum((test_data[i,counter,cl] - mu[Class][i])**2 for i in range(64)))))*.1))\n",
    "            counter += 1\n",
    "            sample_check = max(sample_probs_guassian)\n",
    "            max_index = sample_probs_guassian.index(sample_check)\n",
    "            if cl == max_index:\n",
    "                count_True += 1\n",
    "            else: \n",
    "                count_False += 1\n",
    "            sample_probs_guassian = []\n",
    "        counter = 0 \n",
    "        accuracy_per_class[cl].append((count_False/400)*100)\n",
    "        print(\"The accuracy of testing class \" + str(cl) + \" data is: \" + str((count_True/400)*100)+ \"\\n\")\n",
    "        \n",
    "    return accuracy_per_class"
   ]
  },
  {
   "cell_type": "markdown",
   "metadata": {},
   "source": [
    "TEST NAIVES"
   ]
  },
  {
   "cell_type": "code",
   "execution_count": 155,
   "metadata": {},
   "outputs": [],
   "source": [
    "def test_naives(test_data,training_data):\n",
    "    binary_data = binary_thresh(training_data)\n",
    "    mu,_ = calc_mu_sigma(binary_data)\n",
    "    binary_data = binary_thresh(test_data)\n",
    "    accuracy_per_class = [[] for i in range(test_data.shape[2])]\n",
    "    counter = 0\n",
    "    for cl in range(10):\n",
    "        count_False = 0\n",
    "        count_True = 0 \n",
    "        while counter < 400:\n",
    "            sample_probs_naives = []\n",
    "            for Class in range(10):\n",
    "                      sample_probs_naives.append(np.prod([mu[Class][i] if binary_data[i,counter,cl] == 1 else 1 - mu[Class][i] for i in range(64)]))\n",
    "            counter += 1\n",
    "            sample_check = max(sample_probs_naives)\n",
    "            max_index = sample_probs_naives.index(sample_check)\n",
    "            if cl == max_index:\n",
    "                count_True += 1\n",
    "            else: \n",
    "                count_False += 1\n",
    "            sample_probs_naives = []\n",
    "        counter = 0 \n",
    "        print(\"The accuracy of testing Naives for each class is: \" + str((count_True/400)*100) + \"\\n\")\n",
    "        accuracy_per_class[cl].append((count_False/400)*100)\n",
    "    return accuracy_per_class"
   ]
  },
  {
   "cell_type": "code",
   "execution_count": 163,
   "metadata": {},
   "outputs": [
    {
     "name": "stdout",
     "output_type": "stream",
     "text": [
      "The accuracy of testing class 0 data is: 82.75\n",
      "\n",
      "The accuracy of testing class 1 data is: 79.75\n",
      "\n",
      "The accuracy of testing class 2 data is: 84.25\n",
      "\n",
      "The accuracy of testing class 3 data is: 84.75\n",
      "\n",
      "The accuracy of testing class 4 data is: 83.0\n",
      "\n",
      "The accuracy of testing class 5 data is: 89.0\n",
      "\n",
      "The accuracy of testing class 6 data is: 84.25\n",
      "\n",
      "The accuracy of testing class 7 data is: 72.75\n",
      "\n",
      "The accuracy of testing class 8 data is: 72.5\n",
      "\n",
      "The accuracy of testing class 9 data is: 86.75\n",
      "\n",
      "The accuracy of testing Naives for each class is: 78.25\n",
      "\n",
      "The accuracy of testing Naives for each class is: 73.5\n",
      "\n",
      "The accuracy of testing Naives for each class is: 78.75\n",
      "\n",
      "The accuracy of testing Naives for each class is: 78.75\n",
      "\n",
      "The accuracy of testing Naives for each class is: 71.25\n",
      "\n",
      "The accuracy of testing Naives for each class is: 85.25\n",
      "\n",
      "The accuracy of testing Naives for each class is: 77.25\n",
      "\n",
      "The accuracy of testing Naives for each class is: 70.0\n",
      "\n",
      "The accuracy of testing Naives for each class is: 68.5\n",
      "\n",
      "The accuracy of testing Naives for each class is: 86.25\n",
      "\n",
      "+----------------------+----------------------+\n",
      "|       Guassian       |     Naives Bayes     |\n",
      "+----------------------+----------------------+\n",
      "|       [17.25]        |       [21.75]        |\n",
      "|       [20.25]        |        [26.5]        |\n",
      "|       [15.75]        |       [21.25]        |\n",
      "|       [15.25]        |       [21.25]        |\n",
      "|        [17.0]        | [28.749999999999996] |\n",
      "|        [11.0]        |       [14.75]        |\n",
      "|       [15.75]        |       [22.75]        |\n",
      "| [27.250000000000004] |        [30.0]        |\n",
      "| [27.500000000000004] |        [31.5]        |\n",
      "|       [13.25]        | [13.750000000000002] |\n",
      "+----------------------+----------------------+\n",
      "The Guassian and Naives Average Error is : 18.025% | 23.225%\n"
     ]
    }
   ],
   "source": [
    "test1 = test_guassian(test_data,training_data)\n",
    "test2 = test_naives(test_data,training_data)\n",
    "\n",
    "t = PrettyTable(['Guassian', 'Naives Bayes'])\n",
    "for i in range(10):  \n",
    "    t.add_row([test1[i], test2[i]])\n",
    "print(t)\n",
    "avg1, avg2 = np.sum(test1)/10 , np.sum(test2)/10\n",
    "print(\"The Guassian and Naives Average Error is : \" +  str(avg1)+ \"%\" + \" | \" + str(avg2) + \"%\")\n"
   ]
  },
  {
   "cell_type": "code",
   "execution_count": 136,
   "metadata": {},
   "outputs": [
    {
     "ename": "NameError",
     "evalue": "name 'result' is not defined",
     "output_type": "error",
     "traceback": [
      "\u001b[1;31m---------------------------------------------------------------------------\u001b[0m",
      "\u001b[1;31mNameError\u001b[0m                                 Traceback (most recent call last)",
      "\u001b[1;32m<ipython-input-136-0ec0526aa7ae>\u001b[0m in \u001b[0;36m<module>\u001b[1;34m\u001b[0m\n\u001b[0;32m      1\u001b[0m \u001b[1;32mfor\u001b[0m \u001b[0mi\u001b[0m \u001b[1;32min\u001b[0m \u001b[0mrange\u001b[0m\u001b[1;33m(\u001b[0m\u001b[1;36m10\u001b[0m\u001b[1;33m)\u001b[0m\u001b[1;33m:\u001b[0m\u001b[1;33m\u001b[0m\u001b[1;33m\u001b[0m\u001b[0m\n\u001b[1;32m----> 2\u001b[1;33m     \u001b[0msample_check\u001b[0m \u001b[1;33m=\u001b[0m \u001b[0mmax\u001b[0m\u001b[1;33m(\u001b[0m\u001b[0mresult\u001b[0m\u001b[1;33m[\u001b[0m\u001b[0mi\u001b[0m\u001b[1;33m]\u001b[0m\u001b[1;33m)\u001b[0m\u001b[1;33m\u001b[0m\u001b[1;33m\u001b[0m\u001b[0m\n\u001b[0m\u001b[0;32m      3\u001b[0m     \u001b[0mmax_index\u001b[0m \u001b[1;33m=\u001b[0m \u001b[0mresult\u001b[0m\u001b[1;33m[\u001b[0m\u001b[0mi\u001b[0m\u001b[1;33m]\u001b[0m\u001b[1;33m.\u001b[0m\u001b[0mindex\u001b[0m\u001b[1;33m(\u001b[0m\u001b[0msample_check\u001b[0m\u001b[1;33m)\u001b[0m\u001b[1;33m\u001b[0m\u001b[1;33m\u001b[0m\u001b[0m\n\u001b[0;32m      4\u001b[0m     \u001b[0mprint\u001b[0m\u001b[1;33m(\u001b[0m\u001b[1;34m\"This sample image belongs to class: \"\u001b[0m \u001b[1;33m+\u001b[0m \u001b[0mstr\u001b[0m\u001b[1;33m(\u001b[0m\u001b[0mmax_index\u001b[0m \u001b[1;33m+\u001b[0m \u001b[1;36m1\u001b[0m\u001b[1;33m)\u001b[0m\u001b[1;33m)\u001b[0m\u001b[1;33m\u001b[0m\u001b[1;33m\u001b[0m\u001b[0m\n\u001b[0;32m      5\u001b[0m \u001b[1;33m\u001b[0m\u001b[0m\n",
      "\u001b[1;31mNameError\u001b[0m: name 'result' is not defined"
     ]
    }
   ],
   "source": [
    "for i in range(10):\n",
    "    sample_check = max(result[i])\n",
    "    max_index = result[i].index(sample_check)\n",
    "    print(\"This sample image belongs to class: \" + str(max_index + 1))\n",
    "    \n",
    "    temp = np.transpose(test_data[:,:,0])[0] \n",
    "    temp = temp.reshape(8,8)\n",
    "    plt.imshow(temp)\n",
    "    \n",
    "f, axarr = plt.subplots(1,10)\n",
    "for img in imgs: \n",
    "    axarr[counter].imshow(img)\n",
    "    counter +=1\n",
    "\n",
    "temp = np.transpose(test_data[:,:,0])[0] \n",
    "temp = temp.reshape(8,8)\n",
    "plt.imshow(temp)\n"
   ]
  },
  {
   "cell_type": "code",
   "execution_count": null,
   "metadata": {},
   "outputs": [],
   "source": []
  },
  {
   "cell_type": "code",
   "execution_count": null,
   "metadata": {},
   "outputs": [],
   "source": []
  }
 ],
 "metadata": {
  "kernelspec": {
   "display_name": "Python 3",
   "language": "python",
   "name": "python3"
  },
  "language_info": {
   "codemirror_mode": {
    "name": "ipython",
    "version": 3
   },
   "file_extension": ".py",
   "mimetype": "text/x-python",
   "name": "python",
   "nbconvert_exporter": "python",
   "pygments_lexer": "ipython3",
   "version": "3.8.3"
  }
 },
 "nbformat": 4,
 "nbformat_minor": 4
}
